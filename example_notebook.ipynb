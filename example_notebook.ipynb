{
 "cells": [
  {
   "cell_type": "markdown",
   "id": "8951c343-e176-49a2-9143-94d50c5cba5c",
   "metadata": {},
   "source": [
    "# Initialize the notebook"
   ]
  },
  {
   "cell_type": "code",
   "execution_count": 1,
   "id": "bc98f410-8d73-4acb-9369-3e884c370099",
   "metadata": {
    "tags": []
   },
   "outputs": [],
   "source": [
    "import sys\n",
    "\n",
    "# Import abm module objects\n",
    "from abm import optimize, simulate, linspace, fold_scan, value_scan\n",
    "\n",
    "# Import project utility functions\n",
    "from utilities import project_utilities as utils"
   ]
  },
  {
   "cell_type": "code",
   "execution_count": 2,
   "id": "8cb0de3a-2237-43b2-a02e-32315c0f1acc",
   "metadata": {
    "tags": []
   },
   "outputs": [
    {
     "data": {
      "text/plain": [
       "'2.0.0b8'"
      ]
     },
     "execution_count": 2,
     "metadata": {},
     "output_type": "execute_result"
    }
   ],
   "source": [
    "from importlib.metadata import version\n",
    "version(\"abm\")"
   ]
  },
  {
   "cell_type": "markdown",
   "id": "48e9f88f-821c-4606-afd0-9459bd033d1d",
   "metadata": {},
   "source": [
    "# Examples"
   ]
  },
  {
   "cell_type": "code",
   "execution_count": 3,
   "id": "101edee0-2b2b-449f-855b-97b96106b562",
   "metadata": {
    "tags": []
   },
   "outputs": [
    {
     "name": "stdout",
     "output_type": "stream",
     "text": [
      "hello\n"
     ]
    }
   ],
   "source": [
    "# Demonstrate the example utility function\n",
    "utils.utility_example()"
   ]
  }
 ],
 "metadata": {
  "kernelspec": {
   "display_name": "Poetry",
   "language": "python",
   "name": "poetry-kernel"
  },
  "language_info": {
   "codemirror_mode": {
    "name": "ipython",
    "version": 3
   },
   "file_extension": ".py",
   "mimetype": "text/x-python",
   "name": "python",
   "nbconvert_exporter": "python",
   "pygments_lexer": "ipython3",
   "version": "3.12.4"
  }
 },
 "nbformat": 4,
 "nbformat_minor": 5
}
